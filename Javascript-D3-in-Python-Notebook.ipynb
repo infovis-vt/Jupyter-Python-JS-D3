{
 "cells": [
  {
   "cell_type": "markdown",
   "metadata": {},
   "source": [
    "# How to use Javascript D3 in Python Jupyter Notebook\n",
    "\n",
    "### Requirements:\n",
    "\n",
    "* HTML code to create DOM in Notebook:  e.g. initialize vis UI\n",
    "* Javascript code to manipulate HTML Notebook DOM:  e.g. update vis\n",
    "* Javascript query to Python:  e.g. user interaction callback\n",
    "* Python query to Javascript:  e.g. initialize visualization\n",
    "* Import D3 library in Javascript"
   ]
  },
  {
   "cell_type": "code",
   "execution_count": 5,
   "metadata": {},
   "outputs": [],
   "source": [
    "from IPython.display import display, HTML, Javascript\n",
    "import json"
   ]
  },
  {
   "cell_type": "markdown",
   "metadata": {},
   "source": [
    "## Write HTML in Jupyter\n",
    "\n",
    "Use Jupyter **%%html** magics:\n",
    "* https://ipython.readthedocs.io/en/stable/interactive/magics.html\n",
    "* https://nbviewer.jupyter.org/github/ipython/ipython/blob/1.x/examples/notebooks/Cell%20Magics.ipynb\n"
   ]
  },
  {
   "cell_type": "code",
   "execution_count": 81,
   "metadata": {},
   "outputs": [
    {
     "data": {
      "text/html": [
       "<p> Here is my button: \n",
       "<button id='hello'>Hello World</button>"
      ],
      "text/plain": [
       "<IPython.core.display.HTML object>"
      ]
     },
     "metadata": {},
     "output_type": "display_data"
    }
   ],
   "source": [
    "%%html\n",
    "<p> Here is my button: \n",
    "<button id='hello'>Hello World</button>"
   ]
  },
  {
   "cell_type": "markdown",
   "metadata": {},
   "source": [
    "###  Python send data to HTML\n",
    "Use **IPython.display.HTML( )**."
   ]
  },
  {
   "cell_type": "code",
   "execution_count": null,
   "metadata": {},
   "outputs": [],
   "source": [
    "from IPython.display import HTML\n",
    "#from IPython.core.display import HTML, display"
   ]
  },
  {
   "cell_type": "code",
   "execution_count": 86,
   "metadata": {},
   "outputs": [
    {
     "data": {
      "text/plain": [
       "{'hello': 1, 'world': 2}"
      ]
     },
     "execution_count": 86,
     "metadata": {},
     "output_type": "execute_result"
    }
   ],
   "source": [
    "mydict = {'hello':1, 'world':2}\n",
    "mydict"
   ]
  },
  {
   "cell_type": "code",
   "execution_count": null,
   "metadata": {},
   "outputs": [],
   "source": [
    "# Data-driven HTML\n",
    "HTML(\"<button>Hello World \" + str(mydict) + \"</button>\")"
   ]
  },
  {
   "cell_type": "markdown",
   "metadata": {},
   "source": [
    "## Write Javascript in Jupyter\n",
    "\n",
    "Use Jupyter **%%javascript** or **%%js** magics to run javascript in the browser.  Javascript code has access to global **document** and **window** objects.  Local variables do not persist.  Use **window.var** to store persistent data.  **element** is the output cell."
   ]
  },
  {
   "cell_type": "code",
   "execution_count": 83,
   "metadata": {},
   "outputs": [
    {
     "data": {
      "application/javascript": [
       "//# Global data storage\n",
       "window.mydata = \"FOOBAR\""
      ],
      "text/plain": [
       "<IPython.core.display.Javascript object>"
      ]
     },
     "metadata": {},
     "output_type": "display_data"
    }
   ],
   "source": [
    "%%js\n",
    "//# Global data storage\n",
    "window.mydata = \"FOOBAR\""
   ]
  },
  {
   "cell_type": "code",
   "execution_count": null,
   "metadata": {},
   "outputs": [],
   "source": [
    "%%js\n",
    "console.log(window.mydata)\n",
    "document.getElementById('hello').textContent = window.mydata"
   ]
  },
  {
   "cell_type": "code",
   "execution_count": 84,
   "metadata": {},
   "outputs": [
    {
     "data": {
      "application/javascript": [
       "element.append(\"Hello\")"
      ],
      "text/plain": [
       "<IPython.core.display.Javascript object>"
      ]
     },
     "metadata": {},
     "output_type": "display_data"
    }
   ],
   "source": [
    "%%js\n",
    "element.append(\"Hello\")"
   ]
  },
  {
   "cell_type": "markdown",
   "metadata": {},
   "source": [
    "###  Python send data to Javascript\n",
    "\n",
    "In Python, use **IPython.display.Javascript( )** and **json.dumps( )** .  Can use only 1 Javascript( ) call per cell and the cell cannot output anything.\n",
    "* https://blog.thedataincubator.com/2015/08/embedding-d3-in-an-ipython-notebook/\n",
    "* https://github.com/cmoscardi/embedded_d3_example/blob/master/Embedded_D3.ipynb"
   ]
  },
  {
   "cell_type": "code",
   "execution_count": 87,
   "metadata": {},
   "outputs": [],
   "source": [
    "from IPython.display import Javascript\n",
    "import json"
   ]
  },
  {
   "cell_type": "code",
   "execution_count": null,
   "metadata": {},
   "outputs": [],
   "source": [
    "json.dumps(mydict)"
   ]
  },
  {
   "cell_type": "code",
   "execution_count": 88,
   "metadata": {},
   "outputs": [
    {
     "data": {
      "application/javascript": [
       "window.mydata = {\"hello\": 1, \"world\": 2}; console.log(window.mydata);"
      ],
      "text/plain": [
       "<IPython.core.display.Javascript object>"
      ]
     },
     "execution_count": 88,
     "metadata": {},
     "output_type": "execute_result"
    }
   ],
   "source": [
    "# run arbitrary javascript, client-side\n",
    "# transmit data in json string format\n",
    "Javascript('window.mydata = ' + json.dumps(mydict) + '; console.log(window.mydata);')"
   ]
  },
  {
   "cell_type": "code",
   "execution_count": null,
   "metadata": {},
   "outputs": [],
   "source": [
    "%%js\n",
    "# use the data in js\n",
    "document.getElementById('hello').textContent = window.mydata['hello']"
   ]
  },
  {
   "cell_type": "code",
   "execution_count": null,
   "metadata": {
    "scrolled": true
   },
   "outputs": [],
   "source": [
    "# Data size limitations, makes the ipynb file very large, can crash the kernel\n",
    "Javascript('window.mydata = ' + json.dumps(list(range(1000000))) + '; console.log(window.mydata);')"
   ]
  },
  {
   "cell_type": "code",
   "execution_count": null,
   "metadata": {},
   "outputs": [],
   "source": [
    "list(range(1000000))"
   ]
  },
  {
   "cell_type": "markdown",
   "metadata": {},
   "source": [
    "###  Javascript send data to Python\n",
    "\n",
    "In Javascript, use **IPython.notebook.kernel.execute( )** and **JSON.stringify( )**.\n",
    "\n",
    "https://jakevdp.github.io/blog/2013/06/01/ipython-notebook-javascript-python-communication/\n",
    " "
   ]
  },
  {
   "cell_type": "code",
   "execution_count": 89,
   "metadata": {},
   "outputs": [
    {
     "data": {
      "application/javascript": [
       "// transmit data in json string form\n",
       "IPython.notebook.kernel.execute('somedata = ' + JSON.stringify(window.mydata))"
      ],
      "text/plain": [
       "<IPython.core.display.Javascript object>"
      ]
     },
     "metadata": {},
     "output_type": "display_data"
    }
   ],
   "source": [
    "%%js\n",
    "// transmit data in json string form\n",
    "IPython.notebook.kernel.execute('somedata = ' + JSON.stringify(window.mydata))"
   ]
  },
  {
   "cell_type": "code",
   "execution_count": 90,
   "metadata": {},
   "outputs": [
    {
     "data": {
      "text/plain": [
       "{'hello': 1, 'world': 2}"
      ]
     },
     "execution_count": 90,
     "metadata": {},
     "output_type": "execute_result"
    }
   ],
   "source": [
    "somedata"
   ]
  },
  {
   "cell_type": "markdown",
   "metadata": {},
   "source": [
    "###  Javascript send data to Python and get return data to Javascript\n",
    "\n",
    "https://gist.github.com/sanbor/e9c8b57c5759d1ff382a\n",
    "\n",
    "This would be useful for interactive input in tools like Andromeda."
   ]
  },
  {
   "cell_type": "code",
   "execution_count": null,
   "metadata": {},
   "outputs": [],
   "source": [
    "%%js\n",
    "function callback(out){\n",
    "    // Parse JSON output from python.  eval() strips the outer quotes.\n",
    "    console.log(JSON.parse(eval(out.content.data[\"text/plain\"])))\n",
    "}\n",
    "IPython.notebook.kernel.execute('json.dumps(mydict)', {'iopub':{'output': callback}}, {'silent':false})\n"
   ]
  },
  {
   "cell_type": "markdown",
   "metadata": {},
   "source": [
    "### Python to Javascript back to Python\n",
    "\n",
    "No obvious way to get a return value from Javascript?  Probably need to nest the methods like:\n",
    "<pre> Javascript('kernel.execute(...)') </pre>\n",
    "\n",
    "This might be useful for data science updates or Active Learning scenarios.\n"
   ]
  },
  {
   "cell_type": "markdown",
   "metadata": {},
   "source": [
    "# D3 Example\n",
    "\n",
    "Pandas, sklearn"
   ]
  },
  {
   "cell_type": "code",
   "execution_count": 1,
   "metadata": {
    "collapsed": true
   },
   "outputs": [
    {
     "data": {
      "text/html": [
       "<div>\n",
       "<style scoped>\n",
       "    .dataframe tbody tr th:only-of-type {\n",
       "        vertical-align: middle;\n",
       "    }\n",
       "\n",
       "    .dataframe tbody tr th {\n",
       "        vertical-align: top;\n",
       "    }\n",
       "\n",
       "    .dataframe thead th {\n",
       "        text-align: right;\n",
       "    }\n",
       "</style>\n",
       "<table border=\"1\" class=\"dataframe\">\n",
       "  <thead>\n",
       "    <tr style=\"text-align: right;\">\n",
       "      <th></th>\n",
       "      <th>x</th>\n",
       "      <th>y</th>\n",
       "      <th>Name</th>\n",
       "    </tr>\n",
       "    <tr>\n",
       "      <th>Animal</th>\n",
       "      <th></th>\n",
       "      <th></th>\n",
       "      <th></th>\n",
       "    </tr>\n",
       "  </thead>\n",
       "  <tbody>\n",
       "    <tr>\n",
       "      <td>Bat</td>\n",
       "      <td>145.949264</td>\n",
       "      <td>194.742008</td>\n",
       "      <td>Bat</td>\n",
       "    </tr>\n",
       "    <tr>\n",
       "      <td>Beaver</td>\n",
       "      <td>-136.902395</td>\n",
       "      <td>10.253041</td>\n",
       "      <td>Beaver</td>\n",
       "    </tr>\n",
       "    <tr>\n",
       "      <td>Blue Whale</td>\n",
       "      <td>-170.638250</td>\n",
       "      <td>-177.162565</td>\n",
       "      <td>Blue Whale</td>\n",
       "    </tr>\n",
       "    <tr>\n",
       "      <td>Bobcat</td>\n",
       "      <td>-10.490797</td>\n",
       "      <td>182.170127</td>\n",
       "      <td>Bobcat</td>\n",
       "    </tr>\n",
       "    <tr>\n",
       "      <td>Buffalo</td>\n",
       "      <td>24.039446</td>\n",
       "      <td>-136.822998</td>\n",
       "      <td>Buffalo</td>\n",
       "    </tr>\n",
       "  </tbody>\n",
       "</table>\n",
       "</div>"
      ],
      "text/plain": [
       "                     x           y        Name\n",
       "Animal                                        \n",
       "Bat         145.949264  194.742008         Bat\n",
       "Beaver     -136.902395   10.253041      Beaver\n",
       "Blue Whale -170.638250 -177.162565  Blue Whale\n",
       "Bobcat      -10.490797  182.170127      Bobcat\n",
       "Buffalo      24.039446 -136.822998     Buffalo"
      ]
     },
     "execution_count": 1,
     "metadata": {},
     "output_type": "execute_result"
    }
   ],
   "source": [
    "# Use pandas to read data\n",
    "import pandas\n",
    "table = pandas.read_csv('Animal_Data_study_sorted.csv')\n",
    "table = table.set_index('Animal')\n",
    "table.head()\n",
    "\n",
    "# Use sklearn to process data\n",
    "import sklearn.manifold\n",
    "mds = sklearn.manifold.MDS(n_components=2)\n",
    "table2D = pandas.DataFrame(mds.fit_transform(table), columns=['x','y'], index=table.index)\n",
    "table2D['Name'] = table2D.index\n",
    "table2D.head()"
   ]
  },
  {
   "cell_type": "code",
   "execution_count": 3,
   "metadata": {},
   "outputs": [
    {
     "data": {
      "text/plain": [
       "<matplotlib.axes._subplots.AxesSubplot at 0x109ae3410>"
      ]
     },
     "execution_count": 3,
     "metadata": {},
     "output_type": "execute_result"
    },
    {
     "data": {
      "image/png": "[encoded data removed]",
      "text/plain": [
       "<Figure size 432x288 with 1 Axes>"
      ]
     },
     "metadata": {
      "needs_background": "light"
     },
     "output_type": "display_data"
    }
   ],
   "source": [
    "# Matplotlib sucks\n",
    "%matplotlib inline\n",
    "table2D.plot.scatter(x='x', y='y')"
   ]
  },
  {
   "cell_type": "code",
   "execution_count": null,
   "metadata": {},
   "outputs": [],
   "source": [
    "table2D.to_dict(orient='records')"
   ]
  },
  {
   "cell_type": "code",
   "execution_count": 6,
   "metadata": {},
   "outputs": [
    {
     "data": {
      "application/javascript": [
       "window.d3data=[{\"x\": 145.94926389835578, \"y\": 194.7420082287166, \"Name\": \"Bat\"}, {\"x\": -136.9023946944542, \"y\": 10.253040786194038, \"Name\": \"Beaver\"}, {\"x\": -170.63825006516447, \"y\": -177.16256511272968, \"Name\": \"Blue Whale\"}, {\"x\": -10.490796726833587, \"y\": 182.17012679683688, \"Name\": \"Bobcat\"}, {\"x\": 24.039446246301356, \"y\": -136.82299834788708, \"Name\": \"Buffalo\"}, {\"x\": -7.651813951045255, \"y\": 37.81332415369589, \"Name\": \"Chihuahua\"}, {\"x\": 214.32051505188556, \"y\": 88.38366704697904, \"Name\": \"Chimpanzee\"}, {\"x\": 3.4917018790240437, \"y\": 25.406674928491235, \"Name\": \"Collie\"}, {\"x\": 52.69356493244766, \"y\": -111.12407680889775, \"Name\": \"Cow\"}, {\"x\": -54.80505553210297, \"y\": -8.721962353373385, \"Name\": \"Dalmatian\"}, {\"x\": 167.57754229887942, \"y\": -61.21385565592274, \"Name\": \"Deer\"}, {\"x\": -181.47140016152727, \"y\": -81.27054821948283, \"Name\": \"Dolphin\"}, {\"x\": 4.5454005763516685, \"y\": -197.74526357267632, \"Name\": \"Elephant\"}, {\"x\": 14.562088775480222, \"y\": 139.06194671174157, \"Name\": \"Fox\"}, {\"x\": -45.56211726969092, \"y\": 100.09249492395918, \"Name\": \"German Shepherd\"}, {\"x\": -41.544658964209205, \"y\": -88.12564080663745, \"Name\": \"Giant Panda\"}, {\"x\": 147.79495220558033, \"y\": -154.1292395858505, \"Name\": \"Giraffe\"}, {\"x\": 180.44049081174472, \"y\": 35.51320674006565, \"Name\": \"Gorilla\"}, {\"x\": 35.53759987670726, \"y\": 209.56261374921945, \"Name\": \"Grizzly Bear\"}, {\"x\": 53.99172728965821, \"y\": -10.636549247338627, \"Name\": \"Hamster\"}, {\"x\": -65.38870215504403, \"y\": -154.936672477838, \"Name\": \"Hippopotamus\"}, {\"x\": 147.92310418438686, \"y\": -98.3903099016029, \"Name\": \"Horse\"}, {\"x\": -200.7277933215283, \"y\": -177.11706971533346, \"Name\": \"Humpback Whale\"}, {\"x\": -248.759301461473, \"y\": -68.40150095226595, \"Name\": \"Killer Whale\"}, {\"x\": -48.95428365586204, \"y\": 206.3602752016301, \"Name\": \"Leopard\"}, {\"x\": -93.89308544761386, \"y\": 157.71179055167724, \"Name\": \"Lion\"}, {\"x\": 77.14644175599764, \"y\": 28.762918215185472, \"Name\": \"Mole\"}, {\"x\": 102.1998977191796, \"y\": -176.50437063583223, \"Name\": \"Moose\"}, {\"x\": 68.43335405824489, \"y\": 0.2982647849239868, \"Name\": \"Mouse\"}, {\"x\": -164.31694713974449, \"y\": -7.044870907382258, \"Name\": \"Otter\"}, {\"x\": 53.88983577160298, \"y\": -163.15313377818507, \"Name\": \"Ox\"}, {\"x\": -33.88205485116596, \"y\": 29.324821049828955, \"Name\": \"Persian Cat\"}, {\"x\": 6.111153045749238, \"y\": -94.0087155276264, \"Name\": \"Pig\"}, {\"x\": -179.83466294391903, \"y\": 97.28346922827322, \"Name\": \"Polar Bear\"}, {\"x\": 126.11688741799534, \"y\": -11.461185391537645, \"Name\": \"Rabbit\"}, {\"x\": 58.13128534654715, \"y\": 110.10304202835827, \"Name\": \"Raccoon\"}, {\"x\": 80.34439906565247, \"y\": 114.06641486926296, \"Name\": \"Rat\"}, {\"x\": -19.946788479001558, \"y\": -178.20973191083147, \"Name\": \"Rhinoceros\"}, {\"x\": -206.03470856533278, \"y\": -62.19089916911564, \"Name\": \"Seal\"}, {\"x\": 94.17397957855268, \"y\": -114.00447669675137, \"Name\": \"Sheep\"}, {\"x\": -19.02646372294566, \"y\": 96.35523005908215, \"Name\": \"Siamese Cat\"}, {\"x\": -92.28089366196886, \"y\": 72.13054623573434, \"Name\": \"Skunk\"}, {\"x\": 163.41383668380163, \"y\": 71.68715124680828, \"Name\": \"Spider Monkey\"}, {\"x\": 123.722354353325, \"y\": 90.57360401101481, \"Name\": \"Squirrel\"}, {\"x\": -96.75096814135975, \"y\": 226.4116371394504, \"Name\": \"Tiger\"}, {\"x\": -207.86256387088343, \"y\": -126.50410973688034, \"Name\": \"Walrus\"}, {\"x\": 24.586024637794946, \"y\": 77.6644899877267, \"Name\": \"Weasel\"}, {\"x\": -38.29626607734951, \"y\": 160.25970012081135, \"Name\": \"Wolf\"}, {\"x\": 193.88512339897335, \"y\": -103.11271228368838, \"Name\": \"Zebra\"}]"
      ],
      "text/plain": [
       "<IPython.core.display.Javascript object>"
      ]
     },
     "execution_count": 6,
     "metadata": {},
     "output_type": "execute_result"
    }
   ],
   "source": [
    "# Send processed data to Javascript:\n",
    "Javascript('window.d3data=' + json.dumps(table2D.to_dict(orient='records')) )"
   ]
  },
  {
   "cell_type": "markdown",
   "metadata": {},
   "source": [
    "### Import D3 into Javascript globally\n",
    "\n",
    "https://stackoverflow.com/questions/45714017/d3-js-loading-version-3-vs-version-4-in-jupyter-notebook\n",
    "\n",
    "Finicky, need to clear all output and restart the notebook if you want to make changes.\n",
    "Is there a way to \"unrequire\" to enable changing the D3 version?"
   ]
  },
  {
   "cell_type": "code",
   "execution_count": 7,
   "metadata": {},
   "outputs": [
    {
     "data": {
      "application/javascript": [
       "// Import D3, forces D3 to load and provide global access\n",
       "\n",
       "//require.config({paths: {d3: 'https://d3js.org/d3.v3'} });\n",
       "require.config({paths: {d3: 'https://d3js.org/d3.v5'} });\n",
       "\n",
       "require(['d3'], function(d3) { window.d3 = d3; });"
      ],
      "text/plain": [
       "<IPython.core.display.Javascript object>"
      ]
     },
     "metadata": {},
     "output_type": "display_data"
    }
   ],
   "source": [
    "%%javascript\n",
    "// Import D3, forces D3 to load and provide global access\n",
    "\n",
    "//require.config({paths: {d3: 'https://d3js.org/d3.v3'} });\n",
    "require.config({paths: {d3: 'https://d3js.org/d3.v5'} });\n",
    "\n",
    "require(['d3'], function(d3) { window.d3 = d3; });\n"
   ]
  },
  {
   "cell_type": "code",
   "execution_count": 8,
   "metadata": {},
   "outputs": [
    {
     "data": {
      "text/html": [
       "<!-- Create the SVG box for D3 -->\n",
       "<svg id=\"svg1\" width=\"500\" height=\"300\" style=\"border:1px solid black\">\n",
       "\t<text id=\"tooltip\" x=\"50\" y=\"50\">Mouseover</text>\n",
       "</svg>\n",
       "<p id=\"details\">Click for details</p>"
      ],
      "text/plain": [
       "<IPython.core.display.HTML object>"
      ]
     },
     "metadata": {},
     "output_type": "display_data"
    }
   ],
   "source": [
    "%%html\n",
    "<!-- Create the SVG box for D3 -->\n",
    "<svg id=\"svg1\" width=\"500\" height=\"300\" style=\"border:1px solid black\">\n",
    "\t<text id=\"tooltip\" x=\"50\" y=\"50\">Mouseover</text>\n",
    "</svg>\n",
    "<p id=\"details\">Click for details</p>"
   ]
  },
  {
   "cell_type": "code",
   "execution_count": 9,
   "metadata": {},
   "outputs": [
    {
     "data": {
      "application/javascript": [
       "//# standard D3 stuff.  use window.d3data that was transmitted from python.\n",
       "\n",
       "var scalex = d3.scaleLinear().domain([-400, 400]).range([0, 500]);\n",
       "var scaley = d3.scaleLinear().domain([-400, 400]).range([300, 0]);\n",
       "\n",
       "//# Make scatterplot:\n",
       "var circles = d3.select(\"#svg1\").selectAll(\"circle\")\n",
       "\t.data(window.d3data) \t// bind the data to the circles.\n",
       "\t.enter()\t\t        // for data that does not have an existing circle,\n",
       "\t.append(\"circle\");\t\t// make a new circle.\n",
       "//# Update scatterplot (can re-run when making changes):\n",
       "d3.select(\"#svg1\").selectAll(\"circle\")\n",
       "\t.attr(\"cx\", d => scalex(d.x))\t// d=bound data; i=index\n",
       "\t.attr(\"cy\", d => scaley(d.y))\n",
       "\t.attr(\"r\", 7)\n",
       "    .style(\"fill\", \"steelblue\")\n",
       "    .style(\"opacity\", \"0.75\")\n",
       "    .on(\"mouseover\", function(d,i) {\n",
       "\t\td3.select(this).style(\"fill\", \"orange\");\n",
       "\t\td3.select(\"#tooltip\").html(d.Name); } )\n",
       "\t.on(\"mouseout\", function(d,i) {\n",
       "\t\td3.select(this).style(\"fill\", \"steelblue\"); } )\n",
       "    //# on click, roundtrip to python to retrieve detail data values:\n",
       "    .on(\"click\", function(d,i) {\n",
       "        function callback(out){\n",
       "            d3.select(\"#details\").html(out.content.data[\"text/plain\"]); };\n",
       "        IPython.notebook.kernel.execute('json.dumps(table.loc[\"'+d.Name+'\"].to_dict())', \n",
       "            {'iopub':{'output': callback}}, {'silent':false}) })\n",
       "    ;"
      ],
      "text/plain": [
       "<IPython.core.display.Javascript object>"
      ]
     },
     "metadata": {},
     "output_type": "display_data"
    }
   ],
   "source": [
    "%%js\n",
    "//# standard D3 stuff.  use window.d3data that was transmitted from python.\n",
    "\n",
    "var scalex = d3.scaleLinear().domain([-400, 400]).range([0, 500]);\n",
    "var scaley = d3.scaleLinear().domain([-400, 400]).range([300, 0]);\n",
    "\n",
    "//# Make scatterplot:\n",
    "var circles = d3.select(\"#svg1\").selectAll(\"circle\")\n",
    "\t.data(window.d3data) \t// bind the data to the circles.\n",
    "\t.enter()\t\t        // for data that does not have an existing circle,\n",
    "\t.append(\"circle\");\t\t// make a new circle.\n",
    "//# Update scatterplot (can re-run when making changes):\n",
    "d3.select(\"#svg1\").selectAll(\"circle\")\n",
    "\t.attr(\"cx\", d => scalex(d.x))\t// d=bound data; i=index\n",
    "\t.attr(\"cy\", d => scaley(d.y))\n",
    "\t.attr(\"r\", 7)\n",
    "    .style(\"fill\", \"steelblue\")\n",
    "    .style(\"opacity\", \"0.75\")\n",
    "    .on(\"mouseover\", function(d,i) {\n",
    "\t\td3.select(this).style(\"fill\", \"orange\");\n",
    "\t\td3.select(\"#tooltip\").html(d.Name); } )\n",
    "\t.on(\"mouseout\", function(d,i) {\n",
    "\t\td3.select(this).style(\"fill\", \"steelblue\"); } )\n",
    "    //# on click, roundtrip to python to retrieve detail data values:\n",
    "    .on(\"click\", function(d,i) {\n",
    "        function callback(out){\n",
    "            d3.select(\"#details\").html(out.content.data[\"text/plain\"]); };\n",
    "        IPython.notebook.kernel.execute('json.dumps(table.loc[\"'+d.Name+'\"].to_dict())', \n",
    "            {'iopub':{'output': callback}}, {'silent':false}) })\n",
    "    ;\n"
   ]
  },
  {
   "cell_type": "code",
   "execution_count": null,
   "metadata": {},
   "outputs": [],
   "source": [
    "json.dumps(table.loc['Bat'].to_dict())"
   ]
  },
  {
   "cell_type": "markdown",
   "metadata": {},
   "source": [
    "## Other Notes"
   ]
  },
  {
   "cell_type": "code",
   "execution_count": null,
   "metadata": {},
   "outputs": [],
   "source": [
    "# this does not work with D3, wrong format\n",
    "table2D.to_json()"
   ]
  },
  {
   "cell_type": "code",
   "execution_count": null,
   "metadata": {},
   "outputs": [],
   "source": [
    "# this works with D3, correct format\n",
    "json.dumps(table2D.to_dict(orient='records'))"
   ]
  },
  {
   "cell_type": "code",
   "execution_count": 97,
   "metadata": {},
   "outputs": [
    {
     "data": {
      "application/javascript": [
       "// D3 example using this cell's output \"element\" \n",
       "        var data = [1, 2, 4, 8, 16, 8, 4, 2, 1]\n",
       "\n",
       "        var svg = window.d3.select(element.get(0)).append('svg')\n",
       "            .attr('width', 400)\n",
       "            .attr('height', 200);\n",
       "        svg.selectAll('circle')\n",
       "            .data(data)\n",
       "            .enter()\n",
       "            .append('circle')\n",
       "            .attr(\"cx\", function(d, i) {return 40 * (i + 1);})\n",
       "            .attr(\"cy\", function(d, i) {return 100 + 30 * (i % 3 - 1);})\n",
       "            .style(\"fill\", \"#1570a4\")\n",
       "            .transition().duration(2000)\n",
       "            .attr(\"r\", function(d) {return 2*d;})\n",
       "        ;"
      ],
      "text/plain": [
       "<IPython.core.display.Javascript object>"
      ]
     },
     "metadata": {},
     "output_type": "display_data"
    }
   ],
   "source": [
    "%%javascript\n",
    "// D3 example using this cell's output \"element\" \n",
    "        var data = [1, 2, 4, 8, 16, 8, 4, 2, 1]\n",
    "\n",
    "        var svg = window.d3.select(element.get(0)).append('svg')\n",
    "            .attr('width', 400)\n",
    "            .attr('height', 200);\n",
    "        svg.selectAll('circle')\n",
    "            .data(data)\n",
    "            .enter()\n",
    "            .append('circle')\n",
    "            .attr(\"cx\", function(d, i) {return 40 * (i + 1);})\n",
    "            .attr(\"cy\", function(d, i) {return 100 + 30 * (i % 3 - 1);})\n",
    "            .style(\"fill\", \"#1570a4\")\n",
    "            .transition().duration(2000)\n",
    "            .attr(\"r\", function(d) {return 2*d;})\n",
    "        ;\n"
   ]
  },
  {
   "cell_type": "code",
   "execution_count": null,
   "metadata": {},
   "outputs": [],
   "source": [
    "%load_ext py_d3\n",
    "# this is a cool idea to create a D3 magic, but I cant get it to work.\n",
    "# https://github.com/ResidentMario/py_d3"
   ]
  },
  {
   "cell_type": "code",
   "execution_count": null,
   "metadata": {},
   "outputs": [],
   "source": [
    "%%d3\n",
    "\n",
    "<g></g>\n",
    "<script>\n",
    "d3.select(\"g\").text(\"hello\")\n",
    "</script>"
   ]
  },
  {
   "cell_type": "code",
   "execution_count": null,
   "metadata": {},
   "outputs": [],
   "source": [
    "# This seems to have only local effect?\n",
    "HTML('<script src=\"https://d3js.org/d3.v5.min.js\"></script>')"
   ]
  },
  {
   "cell_type": "code",
   "execution_count": null,
   "metadata": {},
   "outputs": [],
   "source": []
  }
 ],
 "metadata": {
  "kernelspec": {
   "display_name": "Python 3",
   "language": "python",
   "name": "python3"
  },
  "language_info": {
   "codemirror_mode": {
    "name": "ipython",
    "version": 3
   },
   "file_extension": ".py",
   "mimetype": "text/x-python",
   "name": "python",
   "nbconvert_exporter": "python",
   "pygments_lexer": "ipython3",
   "version": "3.8.5"
  }
 },
 "nbformat": 4,
 "nbformat_minor": 2
}
